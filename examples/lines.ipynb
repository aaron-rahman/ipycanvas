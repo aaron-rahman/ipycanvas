{
 "cells": [
  {
   "cell_type": "code",
   "execution_count": null,
   "metadata": {},
   "outputs": [],
   "source": [
    "from ipycanvas import Canvas"
   ]
  },
  {
   "cell_type": "markdown",
   "metadata": {},
   "source": [
    "# Line width"
   ]
  },
  {
   "cell_type": "code",
   "execution_count": null,
   "metadata": {},
   "outputs": [],
   "source": [
    "size = (200, 140)\n",
    "\n",
    "canvas = Canvas(size=size)\n",
    "for i in range(10):\n",
    "    width = 1 + i\n",
    "    x = 5 + i * 20\n",
    "    canvas.line_width = width\n",
    "\n",
    "    canvas.fill_text(str(width), x - 5, 15)\n",
    "\n",
    "    canvas.begin_path()\n",
    "    canvas.move_to(x, 20)\n",
    "    canvas.line_to(x, 140)\n",
    "    canvas.stroke()\n",
    "canvas"
   ]
  },
  {
   "cell_type": "markdown",
   "metadata": {},
   "source": [
    "# Line cap"
   ]
  },
  {
   "cell_type": "code",
   "execution_count": null,
   "metadata": {},
   "outputs": [],
   "source": [
    "size = (160, 180)\n",
    "\n",
    "canvas = Canvas(size=size)\n",
    "\n",
    "# Possible line_cap values\n",
    "line_caps = ['butt', 'round', 'square']\n",
    "\n",
    "# Draw guides\n",
    "canvas.stroke_style = '#09f'\n",
    "canvas.begin_path()\n",
    "canvas.move_to(10, 30)\n",
    "canvas.line_to(140, 30)\n",
    "canvas.move_to(10, 140)\n",
    "canvas.line_to(140, 140)\n",
    "canvas.stroke()\n",
    "\n",
    "# Draw lines\n",
    "canvas.stroke_style = 'black'\n",
    "canvas.font = '15px serif'\n",
    "for i in range(len(line_caps)):\n",
    "    line_cap = line_caps[i]\n",
    "    x = 25 + i * 50\n",
    "\n",
    "    canvas.fill_text(line_cap, x - 15, 15)\n",
    "    canvas.line_width = 15\n",
    "    canvas.line_cap = line_cap\n",
    "    canvas.begin_path()\n",
    "    canvas.move_to(x, 30)\n",
    "    canvas.line_to(x, 140)\n",
    "    canvas.stroke()\n",
    "\n",
    "canvas"
   ]
  }
 ],
 "metadata": {
  "kernelspec": {
   "display_name": "Python 3",
   "language": "python",
   "name": "python3"
  },
  "language_info": {
   "codemirror_mode": {
    "name": "ipython",
    "version": 3
   },
   "file_extension": ".py",
   "mimetype": "text/x-python",
   "name": "python",
   "nbconvert_exporter": "python",
   "pygments_lexer": "ipython3",
   "version": "3.7.3"
  }
 },
 "nbformat": 4,
 "nbformat_minor": 4
}
