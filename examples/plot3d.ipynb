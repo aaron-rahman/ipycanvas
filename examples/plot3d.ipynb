{
 "cells": [
  {
   "cell_type": "code",
   "execution_count": null,
   "metadata": {},
   "outputs": [],
   "source": [
    "import numpy as np\n",
    "from ipycanvas import Canvas, hold_canvas"
   ]
  },
  {
   "cell_type": "code",
   "execution_count": null,
   "metadata": {},
   "outputs": [],
   "source": [
    "from ipywidgets import FloatSlider"
   ]
  },
  {
   "cell_type": "markdown",
   "metadata": {},
   "source": [
    "This module is local to the Notebook"
   ]
  },
  {
   "cell_type": "code",
   "execution_count": null,
   "metadata": {},
   "outputs": [],
   "source": [
    "from py3d_engine import get_orbit_projection, project_vector"
   ]
  },
  {
   "cell_type": "code",
   "execution_count": null,
   "metadata": {},
   "outputs": [],
   "source": [
    "class Plot3d(Canvas):\n",
    "    def __init__(self):\n",
    "        super(Plot3d, self).__init__(size=(500, 500))\n",
    "        \n",
    "        self.width = 500\n",
    "        self.height = 500\n",
    "\n",
    "        self.dragging = False\n",
    "        self.n = 200\n",
    "        self.x = np.random.rand(self.n) - 0.5\n",
    "        self.y = np.random.rand(self.n) - 0.5\n",
    "        self.z = np.random.rand(self.n) - 0.5\n",
    "\n",
    "        self.radius = 5\n",
    "        self.dx = 0\n",
    "        self.dy = 0\n",
    "        self.update_matrix()\n",
    "\n",
    "        self.on_mouse_down(self.mouse_down_handler)\n",
    "        self.on_mouse_move(self.mouse_move_handler)\n",
    "        self.on_mouse_up(self.mouse_up_handler)\n",
    "        self.on_mouse_out(self.mouse_out_handler)\n",
    "\n",
    "    def update_matrix(self, dx=None, dy=None, radius=None):\n",
    "        dx = dx if dx is not None else self.dx\n",
    "        dy = dy if dy is not None else self.dy\n",
    "        self.radius = radius if radius is not None else self.radius\n",
    "\n",
    "        self.matrix = get_orbit_projection(\n",
    "            dy, dx, self.radius, \n",
    "            aspect=self.width / self.height\n",
    "        )\n",
    "        self.x2, self.y2, self.z2 = project_vector(self.x, self.y, self.z, self.matrix)\n",
    "        self.draw()\n",
    "\n",
    "    def draw(self):\n",
    "        x = self.x2 * self.width + self.width / 2\n",
    "        y = self.y2 * self.height + self.height / 2\n",
    "        size = 10 * (1 - self.z2) + 1\n",
    "        with hold_canvas(self):\n",
    "            self.clear()\n",
    "            self.fill_circles(x, y, size)\n",
    "\n",
    "    def mouse_down_handler(self, pixel_x, pixel_y):\n",
    "        self.dragging = True\n",
    "        self.x_mouse = pixel_x\n",
    "        self.y_mouse = pixel_y\n",
    "\n",
    "    def mouse_move_handler(self, pixel_x, pixel_y):\n",
    "        if self.dragging:\n",
    "            self.dx_new = self.dx + pixel_x - self.x_mouse\n",
    "            self.dy_new = self.dy + pixel_y - self.y_mouse\n",
    "            \n",
    "            self.update_matrix(- self.dx_new, self.dy_new)\n",
    "    \n",
    "    def mouse_up_handler(self, pixel_x, pixel_y):\n",
    "        if self.dragging:\n",
    "            self.dragging = False\n",
    "            self.dx = self.dx_new\n",
    "            self.dy = self.dy_new\n",
    "    \n",
    "    def mouse_out_handler(self, pixel_x, pixel_y):\n",
    "        if self.dragging:\n",
    "            self.dragging = False\n",
    "            self.dx = self.dx_new\n",
    "            self.dy = self.dy_new"
   ]
  },
  {
   "cell_type": "code",
   "execution_count": null,
   "metadata": {
    "scrolled": false
   },
   "outputs": [],
   "source": [
    "p = Plot3d()\n",
    "p"
   ]
  },
  {
   "cell_type": "code",
   "execution_count": null,
   "metadata": {},
   "outputs": [],
   "source": [
    "# Link Camera position to a slider widget\n",
    "slider = FloatSlider(description='Radius:', min=1., max=7., value=p.radius)\n",
    "\n",
    "def on_slider_move(change):\n",
    "    slider_value = change['new']\n",
    "\n",
    "    p.update_matrix(radius=slider_value)\n",
    "\n",
    "slider.observe(on_slider_move, 'value')\n",
    "\n",
    "slider"
   ]
  }
 ],
 "metadata": {
  "kernelspec": {
   "display_name": "Python 3",
   "language": "python",
   "name": "python3"
  },
  "language_info": {
   "codemirror_mode": {
    "name": "ipython",
    "version": 3
   },
   "file_extension": ".py",
   "mimetype": "text/x-python",
   "name": "python",
   "nbconvert_exporter": "python",
   "pygments_lexer": "ipython3",
   "version": "3.9.0"
  }
 },
 "nbformat": 4,
 "nbformat_minor": 2
}
