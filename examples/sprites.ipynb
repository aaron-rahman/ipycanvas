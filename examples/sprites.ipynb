{
 "cells": [
  {
   "cell_type": "markdown",
   "metadata": {},
   "source": [
    "# Displaying sprites on the Canvas\n",
    "\n",
    "Note that this notebook needs `pillow` for loading the sprite image:\n",
    "\n",
    "```\n",
    "$ pip install pillow\n",
    "```"
   ]
  },
  {
   "cell_type": "code",
   "execution_count": null,
   "metadata": {},
   "outputs": [],
   "source": [
    "from random import choice, randint\n",
    "\n",
    "from PIL import Image\n",
    "\n",
    "import numpy as np\n",
    "\n",
    "from ipycanvas import MultiCanvas, hold_canvas"
   ]
  },
  {
   "cell_type": "code",
   "execution_count": null,
   "metadata": {},
   "outputs": [],
   "source": [
    "def load_image(path):\n",
    "    \"\"\"Load an image into a NumPy array.\"\"\"\n",
    "    return np.array(Image.open(path))"
   ]
  },
  {
   "cell_type": "code",
   "execution_count": null,
   "metadata": {},
   "outputs": [],
   "source": [
    "# Loading sprites as NumPy arrays\n",
    "sprites_data = [load_image('sprites/smoke_texture{}.png'.format(i)) for i in range(3)]"
   ]
  },
  {
   "cell_type": "code",
   "execution_count": null,
   "metadata": {},
   "outputs": [],
   "source": [
    "sprites_data[0].shape"
   ]
  },
  {
   "cell_type": "code",
   "execution_count": null,
   "metadata": {},
   "outputs": [],
   "source": [
    "m = MultiCanvas(n_canvases=2, size=(800, 600))\n",
    "m[0].fill_style = '#a9cafc'\n",
    "m[0].fill_rect(0, 0, m.size[0], m.size[1])\n",
    "\n",
    "m"
   ]
  },
  {
   "cell_type": "code",
   "execution_count": null,
   "metadata": {},
   "outputs": [],
   "source": [
    "with hold_canvas(m[1]):\n",
    "    for _ in range(50):\n",
    "        sprite = sprites_data[choice(range(3))]\n",
    "        m[1].put_image_data(\n",
    "            sprite, \n",
    "            randint(0, m.size[0] - sprite.shape[1]), \n",
    "            randint(0, m.size[1] - sprite.shape[0])\n",
    "        )"
   ]
  }
 ],
 "metadata": {
  "kernelspec": {
   "display_name": "Python 3",
   "language": "python",
   "name": "python3"
  },
  "language_info": {
   "codemirror_mode": {
    "name": "ipython",
    "version": 3
   },
   "file_extension": ".py",
   "mimetype": "text/x-python",
   "name": "python",
   "nbconvert_exporter": "python",
   "pygments_lexer": "ipython3",
   "version": "3.7.3"
  }
 },
 "nbformat": 4,
 "nbformat_minor": 4
}
