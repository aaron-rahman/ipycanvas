{
 "cells": [
  {
   "cell_type": "markdown",
   "metadata": {},
   "source": [
    "# ipycanvas: Interactive Canvas"
   ]
  },
  {
   "cell_type": "code",
   "execution_count": null,
   "metadata": {},
   "outputs": [],
   "source": [
    "from math import pi\n",
    "\n",
    "import ipycanvas"
   ]
  },
  {
   "cell_type": "code",
   "execution_count": null,
   "metadata": {},
   "outputs": [],
   "source": [
    "c = ipycanvas.Canvas()\n",
    "c.layout.height = '200px'"
   ]
  },
  {
   "cell_type": "code",
   "execution_count": null,
   "metadata": {},
   "outputs": [],
   "source": [
    "c"
   ]
  },
  {
   "cell_type": "code",
   "execution_count": null,
   "metadata": {},
   "outputs": [],
   "source": [
    "# Draw smiley face\n",
    "c.begin_path();\n",
    "c.arc(75, 75, 50, 0, pi * 2, True); # Outer circle\n",
    "c.move_to(110, 75);\n",
    "c.arc(75, 75, 35, 0, pi, False); # Mouth (clockwise)\n",
    "c.move_to(65, 65);\n",
    "c.arc(60, 65, 5, 0, pi * 2, True); # Left eye\n",
    "c.move_to(95, 65);\n",
    "c.arc(90, 65, 5, 0, pi * 2, True); # Right eye\n",
    "c.stroke();"
   ]
  },
  {
   "cell_type": "code",
   "execution_count": null,
   "metadata": {},
   "outputs": [],
   "source": [
    "# Draw simple triangle shape\n",
    "c.begin_path();\n",
    "c.move_to(75, 50);\n",
    "c.line_to(100, 75);\n",
    "c.line_to(100, 25);\n",
    "c.fill();"
   ]
  }
 ],
 "metadata": {
  "kernelspec": {
   "display_name": "Python 3",
   "language": "python",
   "name": "python3"
  },
  "language_info": {
   "codemirror_mode": {
    "name": "ipython",
    "version": 3
   },
   "file_extension": ".py",
   "mimetype": "text/x-python",
   "name": "python",
   "nbconvert_exporter": "python",
   "pygments_lexer": "ipython3",
   "version": "3.7.3"
  }
 },
 "nbformat": 4,
 "nbformat_minor": 4
}
